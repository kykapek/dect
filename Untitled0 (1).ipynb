{
 "cells": [
  {
   "cell_type": "code",
   "execution_count": 117,
   "metadata": {
    "colab": {
     "base_uri": "https://localhost:8080/",
     "height": 323
    },
    "id": "4Td26zaegOjg",
    "outputId": "8f1f164a-3e4b-4274-a0c7-cd4b95c39d4e"
   },
   "outputs": [],
   "source": [
    "import matplotlib.pyplot as plt\n",
    "import sounddevice as sd\n",
    "import numpy as np\n",
    "import winsound\n",
    "import time"
   ]
  },
  {
   "cell_type": "code",
   "execution_count": 118,
   "metadata": {
    "id": "Qj19iBwOgjmy"
   },
   "outputs": [],
   "source": [
    "def dec_to_bin(x):\n",
    "  return '{:08}'.format(int(bin(x)[2:]))"
   ]
  },
  {
   "cell_type": "code",
   "execution_count": 119,
   "metadata": {
    "id": "W1hnckfYgp3F"
   },
   "outputs": [],
   "source": [
    "def change_to_2ss(res):\n",
    "  for i in range(len(res)):\n",
    "    res[i] = dec_to_bin(res[i])\n",
    "  binary_string = \"\"\n",
    "  for i in res:\n",
    "    binary_string += str(i)\n",
    "  return binary_string"
   ]
  },
  {
   "cell_type": "code",
   "execution_count": 120,
   "metadata": {
    "id": "EAG69MA7hFxR"
   },
   "outputs": [],
   "source": [
    "def NRZ(code):\n",
    "  if code[0] == '1':\n",
    "    x = [0, 0, 1]\n",
    "    y = [0, 1, 1]\n",
    "  else:\n",
    "    x = [0, 1]\n",
    "    y = [0, 0]\n",
    "  for i in range(1, len(code)):\n",
    "    if code[i] == '0':\n",
    "      if code[i-1] == '0':\n",
    "        x.append(x[-1] + 1)\n",
    "        y.append(y[-1])\n",
    "      else:\n",
    "        x.append(x[-1]) \n",
    "        x.append(x[-1] + 1) \n",
    "        y.append(y[-1] - 1) \n",
    "        y.append(y[-1])\n",
    "    elif code[i] == '1':\n",
    "      if code[i-1] == '1':\n",
    "        x.append(x[-1] + 1) \n",
    "        y.append(y[-1])\n",
    "      else:\n",
    "        x.append(x[-1]) \n",
    "        x.append(x[-1] + 1) \n",
    "        y.append(y[-1] + 1) \n",
    "        y.append(y[-1])\n",
    "  draw(x, y, 'NRZ')"
   ]
  },
  {
   "cell_type": "code",
   "execution_count": 121,
   "metadata": {
    "id": "NcA_kPekiBr4"
   },
   "outputs": [],
   "source": [
    "def NRZI(code):\n",
    "  if code[0] == '1': \n",
    "    x = [0, 0, 1] \n",
    "    y = [0, 1, 1]\n",
    "  else:\n",
    "    x = [0, 1] \n",
    "    y = [0, 0]\n",
    "  for i in range(1, len(code)):\n",
    "    if code[i] == '1':\n",
    "      x.append(x[-1])\n",
    "      if y[-1] == 0:\n",
    "        y.append(y[-1] + 1)\n",
    "      else:\n",
    "        y.append(y[-1] - 1)\n",
    "      x.append(x[-1] + 1) \n",
    "      y.append(y[-1])\n",
    "    elif code[i] == '0': \n",
    "      x.append(x[-1] + 1) \n",
    "      y.append(y[-1])\n",
    "  draw(x, y, code, 'NRZI')"
   ]
  },
  {
   "cell_type": "code",
   "execution_count": 122,
   "metadata": {
    "id": "opV_g3_Ci-FV"
   },
   "outputs": [],
   "source": [
    "def manchester(code):\n",
    "  if code[0] == '1':\n",
    "    x = [0, 0, 0.5, 0.5, 1] \n",
    "    y = [0, 1, 1, 0, 0]\n",
    "  else:\n",
    "    x = [0, 0.5, 0.5, 1] \n",
    "    y = [0, 0, 1, 1]\n",
    "  for i in range(1, len(code)):\n",
    "    if code[i] == '0':\n",
    "      if code[i-1] == '1':\n",
    "        x.append(x[-1] + 0.5)\n",
    "        x.append(x[-1]) \n",
    "        x.append(x[-1] + 0.5)\n",
    "        y.append(y[-1]) \n",
    "        y.append(y[-1] + 1) \n",
    "        y.append(y[-1])\n",
    "      else:\n",
    "        x.append(x[-1])\n",
    "        x.append(x[-1] + 0.5)\n",
    "        x.append(x[-1])\n",
    "        x.append(x[-1] + 0.5)\n",
    "        y.append(y[-1] - 1)\n",
    "        y.append(y[-1])\n",
    "        y.append(y[-1] + 1)\n",
    "        y.append(y[-1])\n",
    "    elif code[i] == '1':\n",
    "      if code[i-1] == '0':\n",
    "        x.append(x[-1] + 0.5) \n",
    "        x.append(x[-1]) \n",
    "        x.append(x[-1] + 0.5) \n",
    "        y.append(y[-1]) \n",
    "        y.append(y[-1] - 1) \n",
    "        y.append(y[-1])\n",
    "      else:\n",
    "        x.append(x[-1]) \n",
    "        x.append(x[-1] + 0.5) \n",
    "        x.append(x[-1]) \n",
    "        x.append(x[-1] + 0.5) \n",
    "        y.append(y[-1] + 1) \n",
    "        y.append(y[-1]) \n",
    "        y.append(y[-1] - 1) \n",
    "        y.append(y[-1])\n",
    "  draw(x, y, code, 'manchester')"
   ]
  },
  {
   "cell_type": "code",
   "execution_count": 123,
   "metadata": {
    "id": "-9cRJx0tmMLJ"
   },
   "outputs": [],
   "source": [
    "def manchesterD(code):\n",
    "  if code[0] == '1': \n",
    "    x = [0, 0.5, 0.5, 1] \n",
    "    y = [0, 0, 1, 1]\n",
    "  else:\n",
    "    x = [0, 0, 0.5, 0.5, 1] \n",
    "    y = [0, 1, 1, 0, 0]\n",
    "  for i in range(1, len(code)):\n",
    "    if code[i] == '0':\n",
    "      x.append(x[-1]) \n",
    "      x.append(x[-1] + 0.5) \n",
    "      x.append(x[-1]) \n",
    "      x.append(x[-1] + 0.5)\n",
    "      if y[-1] == 0:\n",
    "        y.append(y[-1] + 1) \n",
    "        y.append(y[-1]) \n",
    "        y.append(y[-1] - 1)\n",
    "        y.append(y[-1])\n",
    "      else:\n",
    "        y.append(y[-1] - 1) \n",
    "        y.append(y[-1]) \n",
    "        y.append(y[-1] + 1) \n",
    "        y.append(y[-1])\n",
    "    elif code[i] == '1':\n",
    "      x.append(x[-1] + 0.5) \n",
    "      x.append(x[-1]) \n",
    "      x.append(x[-1] + 0.5)\n",
    "      if y[-1] == 0: \n",
    "        y.append(y[-1]) \n",
    "        y.append(y[-1] + 1) \n",
    "        y.append(y[-1])\n",
    "      else:\n",
    "        y.append(y[-1]) \n",
    "        y.append(y[-1] - 1) \n",
    "        y.append(y[-1])\n",
    "  draw(x, y, code, 'manchesterD')"
   ]
  },
  {
   "cell_type": "code",
   "execution_count": 124,
   "metadata": {
    "id": "lPI5gPFOnWc8"
   },
   "outputs": [],
   "source": [
    "def MLT3(code):\n",
    "  if code[0] == '1': \n",
    "    x = [0, 0, 0, 1] \n",
    "    y = [0, 1, 2, 2]\n",
    "  else:\n",
    "    x = [0, 1] \n",
    "    y = [0, 0]\n",
    "  last_y = 0\n",
    "  for i in range(1, len(code)):\n",
    "    if code[i] == '0':\n",
    "      x.append(x[-1] + 1) \n",
    "      y.append(y[-1])\n",
    "    elif code[i] == '1':\n",
    "      if y[-1] == 2:\n",
    "        x.append(x[-1]) \n",
    "        x.append(x[-1] + 1) \n",
    "        y.append(y[-1] - 1) \n",
    "        y.append(y[-1])\n",
    "      elif y[-1] == 1:\n",
    "        x.append(x[-1]) \n",
    "        x.append(x[-1] + 1)\n",
    "        if last_y == 2: \n",
    "          y.append(y[-1] - 1) \n",
    "          y.append(y[-1]) \n",
    "        else: \n",
    "          y.append(y[-1] + 1) \n",
    "          y.append(y[-1])\n",
    "      elif y[-1] == 0:\n",
    "        x.append(x[-1]) \n",
    "        x.append(x[-1] + 1) \n",
    "        y.append(y[-1] + 1) \n",
    "        y.append(y[-1])\n",
    "      last_y = y[-3]\n",
    "  draw(x, y, code, 'MLT3')"
   ]
  },
  {
   "cell_type": "code",
   "execution_count": 125,
   "metadata": {
    "id": "b-5DMirHkQqa"
   },
   "outputs": [],
   "source": [
    "def get_ready_lists(first_cipher, second_cipher):\n",
    "  x = list() \n",
    "  y = list()\n",
    "  if first_cipher == '1':\n",
    "    if second_cipher == '0':\n",
    "      x.extend([0, 0, 1, 1]) \n",
    "      y_append = [0, 3, 3, 3] \n",
    "      y.extend(y_append)\n",
    "    else:\n",
    "      x.extend([0, 0, 1, 1]) \n",
    "      y_append = [0, 2, 2, 2] \n",
    "      y.extend(y_append)\n",
    "  elif first_cipher == '0':\n",
    "    if second_cipher == '1':\n",
    "      x.extend([0, 0, 1, 1]) \n",
    "      y_append = [0, 1, 1, 1] \n",
    "      y.extend(y_append)\n",
    "    else:\n",
    "      x.extend([0, 1, 1]) \n",
    "      y_append = [0, 0, 0] \n",
    "      y.extend(y_append)\n",
    "  return x, y"
   ]
  },
  {
   "cell_type": "code",
   "execution_count": 126,
   "metadata": {
    "id": "F7JZt8fHoltS"
   },
   "outputs": [],
   "source": [
    "def two_B_one_Q(code):\n",
    "  x, y = get_ready_lists(code[0], code[1])\n",
    "  for i in range(4, len(code) + 1, 2):\n",
    "    first_cipher = code[i-2]\n",
    "    second_cipher = code[i-1]\n",
    "    if str(first_cipher) + str(second_cipher) == '10': \n",
    "      x.append(x[-1]) \n",
    "      x.append(x[-1] + 1) \n",
    "      y.extend([3, 3])\n",
    "    elif str(first_cipher) + str(second_cipher) == '11':\n",
    "      x.append(x[-1]) \n",
    "      x.append(x[-1] + 1) \n",
    "      y.extend([2, 2])\n",
    "    elif str(first_cipher) + str(second_cipher) == '01':\n",
    "      x.append(x[-1]) \n",
    "      x.append(x[-1] + 1)\n",
    "      y.extend([1, 1])\n",
    "    else:\n",
    "      x.append(x[-1]) \n",
    "      x.append(x[-1] + 1) \n",
    "      y.extend([0, 0])\n",
    "  draw(x, y, code, '2B1Q')"
   ]
  },
  {
   "cell_type": "code",
   "execution_count": 127,
   "metadata": {
    "id": "fAFhTlsRlVyM"
   },
   "outputs": [],
   "source": [
    "def draw_all_graphics(code):\n",
    "  NRZ(code) \n",
    "  NRZI(code) \n",
    "  manchester(code) \n",
    "  manchesterD(code) \n",
    "  MLT3(code) \n",
    "  two_B_one_Q(code)"
   ]
  },
  {
   "cell_type": "code",
   "execution_count": 128,
   "metadata": {
    "id": "rpEGy4ZGqCCO"
   },
   "outputs": [],
   "source": [
    "def get_sync_coordinates(code, name):\n",
    "  if name == 'MLT3':\n",
    "    x_sync, y_sync = [0, 0, 0.5, 0.5, 1], [3, 4, 4, 3, 3]\n",
    "  elif name == '2B1Q':\n",
    "    x_sync, y_sync = [0, 0, 0.5, 0.5, 1], [4, 5, 5, 4, 4]\n",
    "  else:\n",
    "    x_sync, y_sync = [0, 0, 0.5, 0.5, 1], [2, 3, 3, 2, 2]\n",
    "  if name == '2B1Q':\n",
    "    for i in range(1, len(code) // 2):\n",
    "      x_sync.extend([x_sync[-1], x_sync[-1] + 0.5, x_sync[-1] + 0.5, x_sync[-1] + 1])\n",
    "      y_sync.extend([y_sync[-1] + 1, y_sync[-1] + 1, y_sync[-1], y_sync[-1]])\n",
    "  else:\n",
    "    for i in range(1, len(code)):\n",
    "      x_sync.extend([x_sync[-1], x_sync[-1] + 0.5, x_sync[-1] + 0.5, x_sync[-1] + 1])\n",
    "      y_sync.extend([y_sync[-1] + 1, y_sync[-1] + 1, y_sync[-1], y_sync[-1]])\n",
    "  return x_sync, y_sync"
   ]
  },
  {
   "cell_type": "code",
   "execution_count": 129,
   "metadata": {
    "id": "I5puovkulmqo"
   },
   "outputs": [],
   "source": [
    "def draw(x, y, code, name):\n",
    "  x_sync, y_sync = get_sync_coordinates(code, name)\n",
    "  for i in range(0, len(x_sync), 2): \n",
    "    plt.axes().axvline(x_sync[i], linestyle=':', color='green', linewidth=0.5)\n",
    "  for i in range(2, len(x_sync), 4): \n",
    "    plt.axes().axvline(x_sync[i], linestyle=':', color='red', linewidth=0.5)\n",
    "  for i in range(5): \n",
    "    plt.axes().axhline(i, color='grey', linewidth=0.5)\n",
    "  plt.plot(x_sync, y_sync, color='cyan')\n",
    "  plt.plot(x, y, color='lime')\n",
    "  \n",
    "  \"\"\"data = np.zeros((2, 5))\n",
    "  for i in range (0, 5):\n",
    "    data[0][i] = x[i]\n",
    "    data[1][i] = y[i]\n",
    "  print(data)\n",
    "  print(x)\n",
    "  print(y)\n",
    "  fs = 44100\n",
    "  #sd.play(data, fs)\n",
    "\"\"\"\n",
    "    \n",
    "    \n",
    "    \n",
    "  for i in y:\n",
    "    if i >= 1:\n",
    "        winsound.Beep(2500, 10)\n",
    "    time.sleep(0.01)\n",
    "  plt.axes().set_facecolor('black') \n",
    "  plt.axis('equal')\n",
    "  plt.savefig(name + '.svg', format='svg', dpi=1200)\n",
    "  plt.show()"
   ]
  },
  {
   "cell_type": "code",
   "execution_count": 130,
   "metadata": {},
   "outputs": [
    {
     "data": {
      "text/plain": [
       "'\\nfor i in y:\\n    if i == 0:\\n        sd.play(0, 1)\\n    else:\\n        sd.play(10000, 1)\\n'"
      ]
     },
     "execution_count": 130,
     "metadata": {},
     "output_type": "execute_result"
    }
   ],
   "source": [
    "\"\"\"\n",
    "for i in y:\n",
    "    if i == 0:\n",
    "        sd.play(0, 1)\n",
    "    else:\n",
    "        sd.play(10000, 1)\n",
    "\"\"\""
   ]
  },
  {
   "cell_type": "code",
   "execution_count": 131,
   "metadata": {
    "id": "huDZm2IrsMQm"
   },
   "outputs": [],
   "source": [
    "def menu(resultString):\n",
    "  while True:\n",
    "    print(\"\"\"Please, choose the encoding: \n",
    "    1. NRZ \n",
    "    2. NRZI \n",
    "    3. Manchester \n",
    "    4. Manchester D \n",
    "    5. MLT3 \n",
    "    6. 2B1Q \n",
    "    7. Save all encodings\"\"\")\n",
    "    code = int(input(\"Enter code: \"))\n",
    "    if code == 1:\n",
    "      NRZ(resultString) \n",
    "      break\n",
    "    elif code == 2:\n",
    "      NRZI(resultString) \n",
    "      break\n",
    "    elif code == 3:\n",
    "      manchester(resultString) \n",
    "      break\n",
    "    elif code == 4:\n",
    "      manchesterD(resultString) \n",
    "      break\n",
    "    elif code == 5:\n",
    "      MLT3(resultString) \n",
    "      break\n",
    "    elif code == 6:\n",
    "      two_B_one_Q(resultString)\n",
    "      break\n",
    "    elif code == 7: \n",
    "      draw_all_graphics(resultString) \n",
    "      break"
   ]
  },
  {
   "cell_type": "code",
   "execution_count": 134,
   "metadata": {
    "id": "5r95x7tYs9bF"
   },
   "outputs": [],
   "source": [
    "def main():\n",
    "  text = input(\"Enter text: \")\n",
    "  bytetext = text.encode('cp1251')\n",
    "  text_ascii = list() \n",
    "  for i in bytetext: \n",
    "    text_ascii.append(i) \n",
    "  res = change_to_2ss(text_ascii)\n",
    "  menu(res)"
   ]
  },
  {
   "cell_type": "code",
   "execution_count": 135,
   "metadata": {
    "colab": {
     "base_uri": "https://localhost:8080/",
     "height": 597
    },
    "id": "jkvoLQvgtNSL",
    "outputId": "1515e561-91da-4608-af54-7c7a3e0aea15"
   },
   "outputs": [
    {
     "name": "stdout",
     "output_type": "stream",
     "text": [
      "Enter text: миэм\n",
      "Please, choose the encoding: \n",
      "    1. NRZ \n",
      "    2. NRZI \n",
      "    3. Manchester \n",
      "    4. Manchester D \n",
      "    5. MLT3 \n",
      "    6. 2B1Q \n",
      "    7. Save all encodings\n",
      "Enter code: 5\n"
     ]
    },
    {
     "data": {
      "image/png": "[encoded data removed]",
      "text/plain": [
       "<Figure size 432x288 with 103 Axes>"
      ]
     },
     "metadata": {
      "needs_background": "light"
     },
     "output_type": "display_data"
    }
   ],
   "source": [
    "if __name__ == \"__main__\": \n",
    "  main()"
   ]
  },
  {
   "cell_type": "code",
   "execution_count": 54,
   "metadata": {},
   "outputs": [
    {
     "name": "stdout",
     "output_type": "stream",
     "text": [
      "[0.0000e+00 1.0000e+00 2.0000e+00 ... 4.4097e+04 4.4098e+04 4.4099e+04]\n"
     ]
    }
   ],
   "source": [
    "fs = 44100\n",
    "data = np.zeros(fs)\n",
    "\n",
    "for i in range (0,fs):\n",
    "    data[i] = i\n",
    "print(data)\n",
    "sd.play(data, fs)"
   ]
  },
  {
   "cell_type": "code",
   "execution_count": 55,
   "metadata": {},
   "outputs": [
    {
     "name": "stdout",
     "output_type": "stream",
     "text": [
      "[-50474.5217986  -35250.96350715 -16353.95410784 ... -56357.18279134\n",
      " -10344.79124056 -49356.07001464]\n",
      "111000\n"
     ]
    }
   ],
   "source": [
    "import numpy as np\n",
    "import sounddevice as sd\n",
    "\n",
    "fs = 111000\n",
    "data = np.random.uniform(-100000, -9999, fs)\n",
    "sd.play(data, fs)\n",
    "print(data)\n",
    "print(len(data))"
   ]
  },
  {
   "cell_type": "markdown",
   "metadata": {
    "id": "EEwI5IKGsCyf"
   },
   "source": []
  },
  {
   "cell_type": "code",
   "execution_count": 93,
   "metadata": {},
   "outputs": [],
   "source": [
    "frequency = 2500  # Set Frequency To 2500 Hertz\n",
    "duration = 1000  # Set Duration To 1000 ms == 1 second\n",
    "winsound.Beep(frequency, duration)"
   ]
  },
  {
   "cell_type": "code",
   "execution_count": null,
   "metadata": {},
   "outputs": [],
   "source": []
  }
 ],
 "metadata": {
  "colab": {
   "name": "Untitled0.ipynb",
   "provenance": []
  },
  "kernelspec": {
   "display_name": "Python 3 (ipykernel)",
   "language": "python",
   "name": "python3"
  },
  "language_info": {
   "codemirror_mode": {
    "name": "ipython",
    "version": 3
   },
   "file_extension": ".py",
   "mimetype": "text/x-python",
   "name": "python",
   "nbconvert_exporter": "python",
   "pygments_lexer": "ipython3",
   "version": "3.9.12"
  }
 },
 "nbformat": 4,
 "nbformat_minor": 1
}
